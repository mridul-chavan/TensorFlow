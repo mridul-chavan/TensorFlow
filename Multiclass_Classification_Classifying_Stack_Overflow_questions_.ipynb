{
  "nbformat": 4,
  "nbformat_minor": 0,
  "metadata": {
    "colab": {
      "name": "Multiclass Classification: Classifying Stack Overflow questions .ipynb",
      "provenance": [],
      "collapsed_sections": []
    },
    "kernelspec": {
      "name": "python3",
      "display_name": "Python 3"
    }
  },
  "cells": [
    {
      "cell_type": "markdown",
      "metadata": {
        "id": "pyAkdNorsy4j"
      },
      "source": [
        "# **Classifying Stack Overflow Questions: Multiclass classification**"
      ]
    },
    {
      "cell_type": "markdown",
      "metadata": {
        "id": "MCAFLR1Js7Em"
      },
      "source": [
        "### Imports"
      ]
    },
    {
      "cell_type": "code",
      "metadata": {
        "id": "WiEiIRZMV2wn"
      },
      "source": [
        "import matplotlib.pyplot as plt\r\n",
        "import os\r\n",
        "import re\r\n",
        "import shutil\r\n",
        "import string\r\n",
        "import tensorflow as tf\r\n",
        "\r\n",
        "from tensorflow.keras import layers\r\n",
        "from tensorflow.keras import losses\r\n",
        "from tensorflow.keras import preprocessing\r\n",
        "from tensorflow.keras.layers.experimental.preprocessing import TextVectorization"
      ],
      "execution_count": 2,
      "outputs": []
    },
    {
      "cell_type": "markdown",
      "metadata": {
        "id": "YAUiLCGEtKFg"
      },
      "source": [
        "### Reading in the Stack Overflow raw data\r\n",
        "\r\n",
        "In order to build a robust classifier, any occurences of the words Python, CSharp, JavaScript, or Java in the programming questions have been replaced with the word \"blank\" (as many questions contain the language they're about) in this dataset.\r\n",
        "\r\n"
      ]
    },
    {
      "cell_type": "code",
      "metadata": {
        "id": "6ptAgurnUZez",
        "colab": {
          "base_uri": "https://localhost:8080/",
          "height": 70
        },
        "outputId": "7c79c96a-b264-446e-da7e-a89b1effb20c"
      },
      "source": [
        "url = \"http://storage.googleapis.com/download.tensorflow.org/data/stack_overflow_16k.tar.gz\"\r\n",
        "\r\n",
        "\r\n",
        "tf.keras.utils.get_file(\"/content/stack_overflow_16k\", url,\r\n",
        "                                    untar=True, cache_dir='.',\r\n",
        "                                    cache_subdir='')\r\n",
        "\r\n"
      ],
      "execution_count": 3,
      "outputs": [
        {
          "output_type": "stream",
          "text": [
            "Downloading data from http://storage.googleapis.com/download.tensorflow.org/data/stack_overflow_16k.tar.gz\n",
            "6053888/6053168 [==============================] - 0s 0us/step\n"
          ],
          "name": "stdout"
        },
        {
          "output_type": "execute_result",
          "data": {
            "application/vnd.google.colaboratory.intrinsic+json": {
              "type": "string"
            },
            "text/plain": [
              "'/content/stack_overflow_16k'"
            ]
          },
          "metadata": {
            "tags": []
          },
          "execution_count": 3
        }
      ]
    },
    {
      "cell_type": "code",
      "metadata": {
        "colab": {
          "base_uri": "https://localhost:8080/"
        },
        "id": "fh3XdcJdWu6O",
        "outputId": "9cd2341e-ad18-4ed6-f2c6-5c020acb3378"
      },
      "source": [
        "os.listdir()"
      ],
      "execution_count": 4,
      "outputs": [
        {
          "output_type": "execute_result",
          "data": {
            "text/plain": [
              "['.config',\n",
              " 'test',\n",
              " 'stack_overflow_16k.tar.gz',\n",
              " 'train',\n",
              " 'README.md',\n",
              " 'sample_data']"
            ]
          },
          "metadata": {
            "tags": []
          },
          "execution_count": 4
        }
      ]
    },
    {
      "cell_type": "markdown",
      "metadata": {
        "id": "Y01ePf42tuXS"
      },
      "source": [
        "The folders in /train directory are: csharp, python, java, javascript. These are the 4 classes. "
      ]
    },
    {
      "cell_type": "code",
      "metadata": {
        "colab": {
          "base_uri": "https://localhost:8080/"
        },
        "id": "MGTO94vjXpAJ",
        "outputId": "f4d61bb3-dd84-458f-ea1d-7f73105106df"
      },
      "source": [
        "train_dir = \"/content/train\"\r\n",
        "os.listdir(train_dir)"
      ],
      "execution_count": 5,
      "outputs": [
        {
          "output_type": "execute_result",
          "data": {
            "text/plain": [
              "['csharp', 'java', 'javascript', 'python']"
            ]
          },
          "metadata": {
            "tags": []
          },
          "execution_count": 5
        }
      ]
    },
    {
      "cell_type": "markdown",
      "metadata": {
        "id": "Pq5J-617t5RB"
      },
      "source": [
        "Viewing a sample file in the train/python directory"
      ]
    },
    {
      "cell_type": "code",
      "metadata": {
        "colab": {
          "base_uri": "https://localhost:8080/"
        },
        "id": "Qy1XW8G3YISs",
        "outputId": "abd45c07-5793-4a33-d6ce-a49dd28b78e4"
      },
      "source": [
        "sample_file = os.path.join(train_dir, 'python/0.txt')\r\n",
        "with open(sample_file) as f:\r\n",
        "  print(f.read())"
      ],
      "execution_count": 6,
      "outputs": [
        {
          "output_type": "stream",
          "text": [
            "\"is it legal to define two methods with the same name but different returning types? i've written a piece of code to determine a typical palindrome string. i did this by the definition of a reverse() method returning a string. i also eager to have the same method, but in the void form, because of some future needs..as i add the latter to the code, the valid output will become invalid..so, the question is that is it legal to define two methods with the same name but different returning types?.if not, please let me know how to write this code with the void-type method...class detector(object):.    def __init__(self,string):.        self.string = string..    forbidden = (' ','!','?','.','-','_','&amp;','%',\"\"#\"\",\"\",\"\")..    def eliminator(self):.        for item in self.forbidden:.            if item in self.string:.                self.string = self.string.replace(item,\"\"\"\")..    def reverse(self):.        return self.string[::-1]            ..    #def reverse(self):.    #    self.string = self.string[::-1]    i am prone to add this method..    def check(self):.        reversed = self.reverse().        if self.string == reversed:.            print(\"\"yes\"\").        else:.            print(\"\"no\"\")..det = detector(\"\"rise to vote, sir!\"\").det.eliminator().det.check()...when i add the commented lines, the valid \"\"yes\"\" becomes \"\"no\"\"!\"\n",
            "\n"
          ],
          "name": "stdout"
        }
      ]
    },
    {
      "cell_type": "markdown",
      "metadata": {
        "id": "XI1ADDxaYWiG"
      },
      "source": [
        "### Loading the dataset"
      ]
    },
    {
      "cell_type": "code",
      "metadata": {
        "colab": {
          "base_uri": "https://localhost:8080/"
        },
        "id": "t6_NoIAtYUSa",
        "outputId": "0dc08da8-a47b-4a53-ad02-96c3db5c30db"
      },
      "source": [
        "batch_size = 32\r\n",
        "seed = 29\r\n",
        "\r\n",
        "raw_train_ds = tf.keras.preprocessing.text_dataset_from_directory(\r\n",
        "    '/content/train', \r\n",
        "    batch_size=batch_size, \r\n",
        "    validation_split=0.2, \r\n",
        "    subset='training', \r\n",
        "    seed=seed)"
      ],
      "execution_count": 7,
      "outputs": [
        {
          "output_type": "stream",
          "text": [
            "Found 8000 files belonging to 4 classes.\n",
            "Using 6400 files for training.\n"
          ],
          "name": "stdout"
        }
      ]
    },
    {
      "cell_type": "code",
      "metadata": {
        "colab": {
          "base_uri": "https://localhost:8080/"
        },
        "id": "96Q7mbZUZJYu",
        "outputId": "a81f42ad-0a54-4e53-dc58-9fc4b1148092"
      },
      "source": [
        "raw_val_ds = tf.keras.preprocessing.text_dataset_from_directory(\r\n",
        "    '/content/train', \r\n",
        "    batch_size=batch_size, \r\n",
        "    validation_split=0.2, \r\n",
        "    subset='validation', \r\n",
        "    seed=seed)"
      ],
      "execution_count": 9,
      "outputs": [
        {
          "output_type": "stream",
          "text": [
            "Found 8000 files belonging to 4 classes.\n",
            "Using 1600 files for validation.\n"
          ],
          "name": "stdout"
        }
      ]
    },
    {
      "cell_type": "code",
      "metadata": {
        "colab": {
          "base_uri": "https://localhost:8080/"
        },
        "id": "jkqy8cjDZOq0",
        "outputId": "489b4ab6-5744-4e35-f3bc-ff95c61179eb"
      },
      "source": [
        "raw_test_ds = tf.keras.preprocessing.text_dataset_from_directory(\r\n",
        "    '/content/test', \r\n",
        "    batch_size=batch_size)"
      ],
      "execution_count": 10,
      "outputs": [
        {
          "output_type": "stream",
          "text": [
            "Found 8000 files belonging to 4 classes.\n"
          ],
          "name": "stdout"
        }
      ]
    },
    {
      "cell_type": "code",
      "metadata": {
        "colab": {
          "base_uri": "https://localhost:8080/"
        },
        "id": "c2Y2EjKjZAOA",
        "outputId": "a36f0bb8-299b-4413-8d7d-6c876c0e67e9"
      },
      "source": [
        "print(\"Label 0 corresponds to\", raw_train_ds.class_names[0])\r\n",
        "print(\"Label 1 corresponds to\", raw_train_ds.class_names[1])\r\n",
        "print(\"Label 2 corresponds to\", raw_train_ds.class_names[2])\r\n",
        "print(\"Label 3 corresponds to\", raw_train_ds.class_names[3])"
      ],
      "execution_count": 11,
      "outputs": [
        {
          "output_type": "stream",
          "text": [
            "Label 0 corresponds to csharp\n",
            "Label 1 corresponds to java\n",
            "Label 2 corresponds to javascript\n",
            "Label 3 corresponds to python\n"
          ],
          "name": "stdout"
        }
      ]
    },
    {
      "cell_type": "markdown",
      "metadata": {
        "id": "uIiqGB-8ZV12"
      },
      "source": [
        "### Data Preprocessing\r\n"
      ]
    },
    {
      "cell_type": "code",
      "metadata": {
        "id": "iIiDijqcd4Uz"
      },
      "source": [
        "max_features = 10000\r\n",
        "sequence_length = 250\r\n",
        "\r\n",
        "vectorize_layer = TextVectorization(\r\n",
        "    standardize= 'lower_and_strip_punctuation',\r\n",
        "    max_tokens=max_features,\r\n",
        "    output_mode='int',\r\n",
        "    output_sequence_length=sequence_length)"
      ],
      "execution_count": 14,
      "outputs": []
    },
    {
      "cell_type": "code",
      "metadata": {
        "id": "9seS8TQmd6fM"
      },
      "source": [
        "# Make a text-only dataset (without labels), then call adapt\r\n",
        "train_text = raw_train_ds.map(lambda x, y: x)\r\n",
        "vectorize_layer.adapt(train_text)"
      ],
      "execution_count": 15,
      "outputs": []
    },
    {
      "cell_type": "code",
      "metadata": {
        "id": "d4nFrYtBd-uE"
      },
      "source": [
        "def vectorize_text(text, label):\r\n",
        "  text = tf.expand_dims(text, -1)\r\n",
        "  return vectorize_layer(text), label"
      ],
      "execution_count": 16,
      "outputs": []
    },
    {
      "cell_type": "code",
      "metadata": {
        "colab": {
          "base_uri": "https://localhost:8080/"
        },
        "id": "Hvo9X8hjeB0o",
        "outputId": "13bd5a57-0f60-45ae-8fd0-6132615dcd35"
      },
      "source": [
        "# retrieve a batch (of 32 reviews and labels) from the dataset\r\n",
        "text_batch, label_batch = next(iter(raw_train_ds))\r\n",
        "first_question, first_label = text_batch[0], label_batch[0]\r\n",
        "print(\"Question\", first_question)\r\n",
        "print(\"Language\", raw_train_ds.class_names[first_label])\r\n",
        "print(\"Vectorized Question\", vectorize_text(first_review, first_label))"
      ],
      "execution_count": 36,
      "outputs": [
        {
          "output_type": "stream",
          "text": [
            "Question tf.Tensor(b'\"where do i find the blank standard library code? i wanted to try and look up the source of some of the modules in the blank standard library, but wasn\\'t able to find them. i tried looking in the modules directory after downloading the blank tarball, but it has mainly .c files. i also tried looking at the directory where the blank that already comes with the os (mac osx) has it\\'s modules, and there it seems to have mainly .pyc and .pyo files. would really appreciate it if someone can help me out...(i tried what was suggested in the question how do i find the location of blank module sources? with no luck)\"\\n', shape=(), dtype=string)\n",
            "Language python\n",
            "Vectorized Question (<tf.Tensor: shape=(1, 250), dtype=int64, numpy=\n",
            "array([[  25,    4,  209,    5,  116,   42,  105,  404,   32,    5,   42,\n",
            "           3,   35,  696,    4,   26,    5,  404,  136,  120,  212,    6,\n",
            "           5, 2931,   57,    8,  120,   50,    6,    5,   56,   22,  562,\n",
            "         337,    7,   13,  299,    2, 2931, 1863,    2, 2931,  468,    8,\n",
            "           2, 2931,    1,  139,   10,   23,   42, 5900,   95,  123,  277,\n",
            "          47,    1, 2196,  756,    1, 2196,  775,    1,    2,  404,  812,\n",
            "          76,   13,   37,   65,    1, 2196,  756, 2368,    1, 2196,  775,\n",
            "           1,    1,    1,   78,    7,  272,  212,  645,    1,   50,    1,\n",
            "           1,    1,    1,    1,    8,   11,    1, 2196,  756, 2368,  126,\n",
            "        2196,  775, 6129,    1, 2196,  756, 2368,  126, 2196,  775, 6129,\n",
            "           0,    0,    0,    0,    0,    0,    0,    0,    0,    0,    0,\n",
            "           0,    0,    0,    0,    0,    0,    0,    0,    0,    0,    0,\n",
            "           0,    0,    0,    0,    0,    0,    0,    0,    0,    0,    0,\n",
            "           0,    0,    0,    0,    0,    0,    0,    0,    0,    0,    0,\n",
            "           0,    0,    0,    0,    0,    0,    0,    0,    0,    0,    0,\n",
            "           0,    0,    0,    0,    0,    0,    0,    0,    0,    0,    0,\n",
            "           0,    0,    0,    0,    0,    0,    0,    0,    0,    0,    0,\n",
            "           0,    0,    0,    0,    0,    0,    0,    0,    0,    0,    0,\n",
            "           0,    0,    0,    0,    0,    0,    0,    0,    0,    0,    0,\n",
            "           0,    0,    0,    0,    0,    0,    0,    0,    0,    0,    0,\n",
            "           0,    0,    0,    0,    0,    0,    0,    0,    0,    0,    0,\n",
            "           0,    0,    0,    0,    0,    0,    0,    0,    0,    0,    0,\n",
            "           0,    0,    0,    0,    0,    0,    0,    0]])>, <tf.Tensor: shape=(), dtype=int32, numpy=3>)\n"
          ],
          "name": "stdout"
        }
      ]
    },
    {
      "cell_type": "code",
      "metadata": {
        "colab": {
          "base_uri": "https://localhost:8080/"
        },
        "id": "6UjaJ2nPeHQA",
        "outputId": "7e0771f3-9557-474a-b597-57d7afc0a8f9"
      },
      "source": [
        "print(\"25 ---> \",vectorize_layer.get_vocabulary()[25])\r\n",
        "print(\" 4 ---> \",vectorize_layer.get_vocabulary()[4])\r\n",
        "print('Vocabulary size: {}'.format(len(vectorize_layer.get_vocabulary())))"
      ],
      "execution_count": 37,
      "outputs": [
        {
          "output_type": "stream",
          "text": [
            "25 --->  how\n",
            " 4 --->  to\n",
            "Vocabulary size: 10000\n"
          ],
          "name": "stdout"
        }
      ]
    },
    {
      "cell_type": "code",
      "metadata": {
        "id": "DhP9CEKiePTi"
      },
      "source": [
        "train_ds = raw_train_ds.map(vectorize_text)\r\n",
        "val_ds = raw_val_ds.map(vectorize_text)\r\n",
        "test_ds = raw_test_ds.map(vectorize_text)"
      ],
      "execution_count": 38,
      "outputs": []
    },
    {
      "cell_type": "code",
      "metadata": {
        "id": "TKZ6C6mReSdY"
      },
      "source": [
        "AUTOTUNE = tf.data.AUTOTUNE\r\n",
        "\r\n",
        "train_ds = train_ds.cache().prefetch(buffer_size=AUTOTUNE)\r\n",
        "val_ds = val_ds.cache().prefetch(buffer_size=AUTOTUNE)\r\n",
        "test_ds = test_ds.cache().prefetch(buffer_size=AUTOTUNE)"
      ],
      "execution_count": 39,
      "outputs": []
    },
    {
      "cell_type": "markdown",
      "metadata": {
        "id": "Qw85D15SeXj1"
      },
      "source": [
        "### Building the model"
      ]
    },
    {
      "cell_type": "code",
      "metadata": {
        "id": "9dULYiKgeWd_"
      },
      "source": [
        "embedding_dim = 16"
      ],
      "execution_count": 40,
      "outputs": []
    },
    {
      "cell_type": "code",
      "metadata": {
        "colab": {
          "base_uri": "https://localhost:8080/"
        },
        "id": "V6h1SP3cecqP",
        "outputId": "b67b2b22-2e17-4bda-881a-eda1848d23fb"
      },
      "source": [
        "model = tf.keras.Sequential([\r\n",
        "  layers.Embedding(max_features + 1, embedding_dim),\r\n",
        "  layers.Dropout(0.2),\r\n",
        "  layers.GlobalAveragePooling1D(),\r\n",
        "  layers.Dropout(0.2),\r\n",
        "  layers.Dense(4)])\r\n",
        "\r\n",
        "model.summary()"
      ],
      "execution_count": 41,
      "outputs": [
        {
          "output_type": "stream",
          "text": [
            "Model: \"sequential_3\"\n",
            "_________________________________________________________________\n",
            "Layer (type)                 Output Shape              Param #   \n",
            "=================================================================\n",
            "embedding_2 (Embedding)      (None, None, 16)          160016    \n",
            "_________________________________________________________________\n",
            "dropout_4 (Dropout)          (None, None, 16)          0         \n",
            "_________________________________________________________________\n",
            "global_average_pooling1d_2 ( (None, 16)                0         \n",
            "_________________________________________________________________\n",
            "dropout_5 (Dropout)          (None, 16)                0         \n",
            "_________________________________________________________________\n",
            "dense_2 (Dense)              (None, 4)                 68        \n",
            "=================================================================\n",
            "Total params: 160,084\n",
            "Trainable params: 160,084\n",
            "Non-trainable params: 0\n",
            "_________________________________________________________________\n"
          ],
          "name": "stdout"
        }
      ]
    },
    {
      "cell_type": "code",
      "metadata": {
        "id": "t3nvrYiTejBC"
      },
      "source": [
        "model.compile(loss=losses.SparseCategoricalCrossentropy(from_logits=True),\r\n",
        "              optimizer='adam',\r\n",
        "              metrics= ['accuracy'])"
      ],
      "execution_count": 42,
      "outputs": []
    },
    {
      "cell_type": "markdown",
      "metadata": {
        "id": "9Cp79WuFeveE"
      },
      "source": [
        "### Training the model"
      ]
    },
    {
      "cell_type": "code",
      "metadata": {
        "colab": {
          "base_uri": "https://localhost:8080/"
        },
        "id": "mMwtOpRVerZv",
        "outputId": "4a0e2208-a764-4b52-ce52-2effb76a607e"
      },
      "source": [
        "epochs = 20\r\n",
        "history = model.fit(train_ds,validation_data=val_ds,epochs= epochs)"
      ],
      "execution_count": 43,
      "outputs": [
        {
          "output_type": "stream",
          "text": [
            "Epoch 1/20\n",
            "200/200 [==============================] - 4s 17ms/step - loss: 1.3828 - accuracy: 0.2993 - val_loss: 1.3699 - val_accuracy: 0.3794\n",
            "Epoch 2/20\n",
            "200/200 [==============================] - 1s 5ms/step - loss: 1.3597 - accuracy: 0.4282 - val_loss: 1.3345 - val_accuracy: 0.4444\n",
            "Epoch 3/20\n",
            "200/200 [==============================] - 1s 6ms/step - loss: 1.3151 - accuracy: 0.5000 - val_loss: 1.2792 - val_accuracy: 0.5194\n",
            "Epoch 4/20\n",
            "200/200 [==============================] - 1s 5ms/step - loss: 1.2499 - accuracy: 0.5639 - val_loss: 1.2114 - val_accuracy: 0.5688\n",
            "Epoch 5/20\n",
            "200/200 [==============================] - 1s 5ms/step - loss: 1.1716 - accuracy: 0.6188 - val_loss: 1.1403 - val_accuracy: 0.6200\n",
            "Epoch 6/20\n",
            "200/200 [==============================] - 1s 6ms/step - loss: 1.0902 - accuracy: 0.6754 - val_loss: 1.0727 - val_accuracy: 0.6506\n",
            "Epoch 7/20\n",
            "200/200 [==============================] - 1s 6ms/step - loss: 1.0131 - accuracy: 0.7072 - val_loss: 1.0119 - val_accuracy: 0.6869\n",
            "Epoch 8/20\n",
            "200/200 [==============================] - 1s 6ms/step - loss: 0.9391 - accuracy: 0.7455 - val_loss: 0.9581 - val_accuracy: 0.6956\n",
            "Epoch 9/20\n",
            "200/200 [==============================] - 1s 5ms/step - loss: 0.8771 - accuracy: 0.7572 - val_loss: 0.9115 - val_accuracy: 0.7050\n",
            "Epoch 10/20\n",
            "200/200 [==============================] - 1s 6ms/step - loss: 0.8216 - accuracy: 0.7751 - val_loss: 0.8709 - val_accuracy: 0.7169\n",
            "Epoch 11/20\n",
            "200/200 [==============================] - 1s 6ms/step - loss: 0.7740 - accuracy: 0.7920 - val_loss: 0.8360 - val_accuracy: 0.7312\n",
            "Epoch 12/20\n",
            "200/200 [==============================] - 1s 5ms/step - loss: 0.7294 - accuracy: 0.8054 - val_loss: 0.8053 - val_accuracy: 0.7394\n",
            "Epoch 13/20\n",
            "200/200 [==============================] - 1s 5ms/step - loss: 0.6884 - accuracy: 0.8142 - val_loss: 0.7781 - val_accuracy: 0.7525\n",
            "Epoch 14/20\n",
            "200/200 [==============================] - 1s 5ms/step - loss: 0.6603 - accuracy: 0.8250 - val_loss: 0.7545 - val_accuracy: 0.7594\n",
            "Epoch 15/20\n",
            "200/200 [==============================] - 1s 5ms/step - loss: 0.6295 - accuracy: 0.8292 - val_loss: 0.7334 - val_accuracy: 0.7619\n",
            "Epoch 16/20\n",
            "200/200 [==============================] - 1s 5ms/step - loss: 0.5976 - accuracy: 0.8356 - val_loss: 0.7148 - val_accuracy: 0.7638\n",
            "Epoch 17/20\n",
            "200/200 [==============================] - 1s 6ms/step - loss: 0.5685 - accuracy: 0.8442 - val_loss: 0.6984 - val_accuracy: 0.7694\n",
            "Epoch 18/20\n",
            "200/200 [==============================] - 1s 6ms/step - loss: 0.5492 - accuracy: 0.8584 - val_loss: 0.6828 - val_accuracy: 0.7731\n",
            "Epoch 19/20\n",
            "200/200 [==============================] - 1s 6ms/step - loss: 0.5285 - accuracy: 0.8601 - val_loss: 0.6693 - val_accuracy: 0.7756\n",
            "Epoch 20/20\n",
            "200/200 [==============================] - 1s 5ms/step - loss: 0.5036 - accuracy: 0.8635 - val_loss: 0.6572 - val_accuracy: 0.7831\n"
          ],
          "name": "stdout"
        }
      ]
    },
    {
      "cell_type": "markdown",
      "metadata": {
        "id": "xIdjF1Bpf3UG"
      },
      "source": [
        "### Evaluate the model"
      ]
    },
    {
      "cell_type": "code",
      "metadata": {
        "colab": {
          "base_uri": "https://localhost:8080/"
        },
        "id": "IsRlkmgffzD1",
        "outputId": "d99a5d19-823f-4050-b53e-8d2315aa4112"
      },
      "source": [
        "loss, accuracy = model.evaluate(test_ds)\r\n",
        "\r\n",
        "print(\"Loss: \", loss)\r\n",
        "print(\"Accuracy: \", accuracy)"
      ],
      "execution_count": 44,
      "outputs": [
        {
          "output_type": "stream",
          "text": [
            "250/250 [==============================] - 3s 11ms/step - loss: 0.6337 - accuracy: 0.7807\n",
            "Loss:  0.6337040066719055\n",
            "Accuracy:  0.7807499766349792\n"
          ],
          "name": "stdout"
        }
      ]
    },
    {
      "cell_type": "code",
      "metadata": {
        "colab": {
          "base_uri": "https://localhost:8080/"
        },
        "id": "640YZgrZgArZ",
        "outputId": "664f167e-fa90-4222-abb9-2bf6b0cea060"
      },
      "source": [
        "history_dict = history.history\r\n",
        "history_dict.keys()"
      ],
      "execution_count": 45,
      "outputs": [
        {
          "output_type": "execute_result",
          "data": {
            "text/plain": [
              "dict_keys(['loss', 'accuracy', 'val_loss', 'val_accuracy'])"
            ]
          },
          "metadata": {
            "tags": []
          },
          "execution_count": 45
        }
      ]
    },
    {
      "cell_type": "code",
      "metadata": {
        "colab": {
          "base_uri": "https://localhost:8080/",
          "height": 295
        },
        "id": "94_L1QVcgEhD",
        "outputId": "2c471d3d-5a81-4bbf-ec5d-6d157e722ed5"
      },
      "source": [
        "acc = history_dict['accuracy']\r\n",
        "val_acc = history_dict['val_accuracy']\r\n",
        "loss = history_dict['loss']\r\n",
        "val_loss = history_dict['val_loss']\r\n",
        "\r\n",
        "epochs = range(1, len(acc) + 1)\r\n",
        "\r\n",
        "# \"bo\" is for \"blue dot\"\r\n",
        "plt.plot(epochs, loss, 'bo', label='Training loss')\r\n",
        "# b is for \"solid blue line\"\r\n",
        "plt.plot(epochs, val_loss, 'b', label='Validation loss')\r\n",
        "plt.title('Training and validation loss')\r\n",
        "plt.xlabel('Epochs')\r\n",
        "plt.ylabel('Loss')\r\n",
        "plt.legend()\r\n",
        "\r\n",
        "plt.show()"
      ],
      "execution_count": 46,
      "outputs": [
        {
          "output_type": "display_data",
          "data": {
            "image/png": "[encoded data removed]",
            "text/plain": [
              "<Figure size 432x288 with 1 Axes>"
            ]
          },
          "metadata": {
            "tags": [],
            "needs_background": "light"
          }
        }
      ]
    },
    {
      "cell_type": "code",
      "metadata": {
        "colab": {
          "base_uri": "https://localhost:8080/",
          "height": 295
        },
        "id": "a5K_4flbgP9P",
        "outputId": "a3214b0e-a3a2-4acc-b4f2-8b1abe43048b"
      },
      "source": [
        "plt.plot(epochs, acc, 'bo', label='Training acc')\r\n",
        "plt.plot(epochs, val_acc, 'b', label='Validation acc')\r\n",
        "plt.title('Training and validation accuracy')\r\n",
        "plt.xlabel('Epochs')\r\n",
        "plt.ylabel('Accuracy')\r\n",
        "plt.legend(loc='lower right')\r\n",
        "\r\n",
        "plt.show()"
      ],
      "execution_count": 47,
      "outputs": [
        {
          "output_type": "display_data",
          "data": {
            "image/png": "[encoded data removed]",
            "text/plain": [
              "<Figure size 432x288 with 1 Axes>"
            ]
          },
          "metadata": {
            "tags": [],
            "needs_background": "light"
          }
        }
      ]
    },
    {
      "cell_type": "markdown",
      "metadata": {
        "id": "q5h0qdK_gl7N"
      },
      "source": [
        "### Exporting the model"
      ]
    },
    {
      "cell_type": "code",
      "metadata": {
        "colab": {
          "base_uri": "https://localhost:8080/"
        },
        "id": "e8m7lk07gYEV",
        "outputId": "06ab9d78-4ec4-4f8d-a677-80a026d539db"
      },
      "source": [
        "export_model = tf.keras.Sequential([\r\n",
        "  vectorize_layer,\r\n",
        "  model,\r\n",
        "  layers.Activation('sigmoid')\r\n",
        "])\r\n",
        "\r\n",
        "export_model.compile(\r\n",
        "    loss=losses.SparseCategoricalCrossentropy(from_logits=True), optimizer=\"adam\", metrics=['accuracy']\r\n",
        ")\r\n",
        "\r\n",
        "# Test it with `raw_test_ds`, which yields raw strings\r\n",
        "loss, accuracy = export_model.evaluate(raw_test_ds)\r\n",
        "print(accuracy)"
      ],
      "execution_count": 48,
      "outputs": [
        {
          "output_type": "stream",
          "text": [
            "250/250 [==============================] - 3s 11ms/step - loss: 0.6254 - accuracy: 0.7857\n",
            "0.7807499766349792\n"
          ],
          "name": "stdout"
        }
      ]
    },
    {
      "cell_type": "markdown",
      "metadata": {
        "id": "vtA6ghkBgqHT"
      },
      "source": [
        "### Inference on new data"
      ]
    },
    {
      "cell_type": "code",
      "metadata": {
        "colab": {
          "base_uri": "https://localhost:8080/"
        },
        "id": "Wv5okun-h93G",
        "outputId": "f0491f2f-fdda-4085-b85c-e3200e879356"
      },
      "source": [
        "print(\"Label 0 corresponds to\", raw_train_ds.class_names[0])\r\n",
        "print(\"Label 1 corresponds to\", raw_train_ds.class_names[1])\r\n",
        "print(\"Label 2 corresponds to\", raw_train_ds.class_names[2])\r\n",
        "print(\"Label 3 corresponds to\", raw_train_ds.class_names[3])"
      ],
      "execution_count": 49,
      "outputs": [
        {
          "output_type": "stream",
          "text": [
            "Label 0 corresponds to csharp\n",
            "Label 1 corresponds to java\n",
            "Label 2 corresponds to javascript\n",
            "Label 3 corresponds to python\n"
          ],
          "name": "stdout"
        }
      ]
    },
    {
      "cell_type": "code",
      "metadata": {
        "colab": {
          "base_uri": "https://localhost:8080/"
        },
        "id": "oYSZVNa5glF1",
        "outputId": "a6898247-425f-43a5-a7c1-58c5586c52e6"
      },
      "source": [
        "example = [\r\n",
        "  \"def add(num): for i in range(len(n) .py file print() i += 1\", ##python\r\n",
        "  \"var legalArray = [4, undefined, \"\"];\", ##javascript\r\n",
        " \r\n",
        "  \r\n",
        "\r\n",
        "  \r\n",
        "]\r\n",
        "\r\n",
        "export_model.predict(example)"
      ],
      "execution_count": 54,
      "outputs": [
        {
          "output_type": "execute_result",
          "data": {
            "text/plain": [
              "array([[0.40035713, 0.447245  , 0.39484215, 0.7323151 ],\n",
              "       [0.5046397 , 0.38052762, 0.7417691 , 0.39581048]], dtype=float32)"
            ]
          },
          "metadata": {
            "tags": []
          },
          "execution_count": 54
        }
      ]
    }
  ]
}